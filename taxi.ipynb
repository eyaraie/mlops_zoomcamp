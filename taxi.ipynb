{
 "cells": [
  {
   "cell_type": "code",
   "execution_count": 11,
   "metadata": {},
   "outputs": [],
   "source": [
    "from sklearn.feature_extraction import DictVectorizer\n",
    "import pandas as pd\n",
    "from sklearn.feature_extraction import DictVectorizer\n",
    "from sklearn.linear_model import LinearRegression\n",
    "from sklearn.metrics import mean_squared_error\n",
    "import numpy as np"
   ]
  },
  {
   "cell_type": "code",
   "execution_count": 3,
   "metadata": {},
   "outputs": [
    {
     "name": "stdout",
     "output_type": "stream",
     "text": [
      "19\n"
     ]
    }
   ],
   "source": [
    "import pandas as pd\n",
    "\n",
    "# Specify the path to your Parquet file\n",
    "file_path = 'yellow_tripdata_2023-01.parquet'\n",
    "\n",
    "# Read the Parquet file into a DataFrame\n",
    "df = pd.read_parquet(file_path)\n",
    "\n",
    "# Display the DataFrame\n",
    "num_columns = len(df.columns)\n",
    "\n",
    "print(num_columns)\n"
   ]
  },
  {
   "cell_type": "code",
   "execution_count": 5,
   "metadata": {},
   "outputs": [
    {
     "data": {
      "text/plain": [
       "Index(['VendorID', 'tpep_pickup_datetime', 'tpep_dropoff_datetime',\n",
       "       'passenger_count', 'trip_distance', 'RatecodeID', 'store_and_fwd_flag',\n",
       "       'PULocationID', 'DOLocationID', 'payment_type', 'fare_amount', 'extra',\n",
       "       'mta_tax', 'tip_amount', 'tolls_amount', 'improvement_surcharge',\n",
       "       'total_amount', 'congestion_surcharge', 'airport_fee'],\n",
       "      dtype='object')"
      ]
     },
     "execution_count": 5,
     "metadata": {},
     "output_type": "execute_result"
    }
   ],
   "source": [
    "df.columns"
   ]
  },
  {
   "cell_type": "code",
   "execution_count": 6,
   "metadata": {},
   "outputs": [
    {
     "name": "stdout",
     "output_type": "stream",
     "text": [
      "The standard deviation of the trip durations is: 42.59435124195458\n"
     ]
    }
   ],
   "source": [
    "df['tpep_pickup_datetime'] = pd.to_datetime(df['tpep_pickup_datetime'])\n",
    "df['tpep_dropoff_datetime'] = pd.to_datetime(df['tpep_dropoff_datetime'])\n",
    "df['duration'] = (df['tpep_dropoff_datetime'] - df['tpep_pickup_datetime']).dt.total_seconds() / 60\n",
    "\n",
    "# Calculating the standard deviation of the trip durations\n",
    "duration_std = df['duration'].std()\n",
    "print(f'The standard deviation of the trip durations is: {duration_std}')"
   ]
  },
  {
   "cell_type": "code",
   "execution_count": 7,
   "metadata": {},
   "outputs": [
    {
     "name": "stdout",
     "output_type": "stream",
     "text": [
      "The fraction of records left after dropping outliers is: 0.9812202822125979\n"
     ]
    }
   ],
   "source": [
    "# Filter the DataFrame to keep only records where the duration is between 1 and 60 minutes (inclusive)\n",
    "filtered_df = df[(df['duration'] >= 1) & (df['duration'] <= 60)]\n",
    "\n",
    "# Calculate the fraction of records left after dropping outliers\n",
    "fraction_remaining = len(filtered_df) / len(df)\n",
    "print(f'The fraction of records left after dropping outliers is: {fraction_remaining}')"
   ]
  },
  {
   "cell_type": "code",
   "execution_count": 9,
   "metadata": {},
   "outputs": [
    {
     "name": "stderr",
     "output_type": "stream",
     "text": [
      "/var/folders/v3/t8v18d8j7vd2fgp8d41vxr_80000gn/T/ipykernel_92568/3061884161.py:2: SettingWithCopyWarning: \n",
      "A value is trying to be set on a copy of a slice from a DataFrame.\n",
      "Try using .loc[row_indexer,col_indexer] = value instead\n",
      "\n",
      "See the caveats in the documentation: https://pandas.pydata.org/pandas-docs/stable/user_guide/indexing.html#returning-a-view-versus-a-copy\n",
      "  filtered_df['PULocationID'] = filtered_df['PULocationID'].astype(str)\n",
      "/var/folders/v3/t8v18d8j7vd2fgp8d41vxr_80000gn/T/ipykernel_92568/3061884161.py:3: SettingWithCopyWarning: \n",
      "A value is trying to be set on a copy of a slice from a DataFrame.\n",
      "Try using .loc[row_indexer,col_indexer] = value instead\n",
      "\n",
      "See the caveats in the documentation: https://pandas.pydata.org/pandas-docs/stable/user_guide/indexing.html#returning-a-view-versus-a-copy\n",
      "  filtered_df['DOLocationID'] = filtered_df['DOLocationID'].astype(str)\n"
     ]
    },
    {
     "name": "stdout",
     "output_type": "stream",
     "text": [
      "The dimensionality of the feature matrix is: 515\n"
     ]
    }
   ],
   "source": [
    "# Select only the pickup and dropoff location IDs and cast them to strings\n",
    "filtered_df['PULocationID'] = filtered_df['PULocationID'].astype(str)\n",
    "filtered_df['DOLocationID'] = filtered_df['DOLocationID'].astype(str)\n",
    "\n",
    "# Turn the DataFrame into a list of dictionaries\n",
    "data_dict = filtered_df[['PULocationID', 'DOLocationID']].to_dict(orient='records')\n",
    "\n",
    "# Fit a dictionary vectorizer\n",
    "vec = DictVectorizer(sparse=False)\n",
    "feature_matrix = vec.fit_transform(data_dict)\n",
    "\n",
    "# Get the dimensionality of the matrix (number of columns)\n",
    "num_columns = feature_matrix.shape[1]\n",
    "print(f'The dimensionality of the feature matrix is: {num_columns}')"
   ]
  },
  {
   "cell_type": "code",
   "execution_count": 12,
   "metadata": {},
   "outputs": [],
   "source": [
    "vec = DictVectorizer(sparse=False)\n",
    "feature_matrix = vec.fit_transform(data_dict)\n",
    "\n",
    "# Define the response variable (duration)\n",
    "y = filtered_df['duration'].values\n",
    "\n",
    "# Train a plain linear regression model with default parameters\n",
    "model = LinearRegression()\n",
    "model.fit(feature_matrix, y)\n",
    "\n",
    "# Predict the duration using the training data\n",
    "y_pred = model.predict(feature_matrix)\n",
    "\n",
    "# Calculate the RMSE on the training data\n",
    "rmse = np.sqrt(mean_squared_error(y, y_pred))\n",
    "print(f'The RMSE on the training data is: {rmse}')\n"
   ]
  }
 ],
 "metadata": {
  "kernelspec": {
   "display_name": "Python 3",
   "language": "python",
   "name": "python3"
  },
  "language_info": {
   "codemirror_mode": {
    "name": "ipython",
    "version": 3
   },
   "file_extension": ".py",
   "mimetype": "text/x-python",
   "name": "python",
   "nbconvert_exporter": "python",
   "pygments_lexer": "ipython3",
   "version": "3.9.12"
  },
  "orig_nbformat": 4
 },
 "nbformat": 4,
 "nbformat_minor": 2
}
